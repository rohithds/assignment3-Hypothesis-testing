{
  "cells": [
    {
      "cell_type": "code",
      "execution_count": null,
      "id": "840ce2b7",
      "metadata": {
        "id": "840ce2b7"
      },
      "outputs": [],
      "source": [
        "import pandas as pd\n",
        "import numpy as np\n",
        "import scipy.stats as st\n",
        "from scipy.stats import chi2_contingency"
      ]
    },
    {
      "cell_type": "code",
      "execution_count": null,
      "id": "80eccc02",
      "metadata": {
        "id": "80eccc02",
        "outputId": "cd3f1158-3cd4-416f-f434-78cd4e682d89"
      },
      "outputs": [
        {
          "data": {
            "text/html": [
              "<div>\n",
              "<style scoped>\n",
              "    .dataframe tbody tr th:only-of-type {\n",
              "        vertical-align: middle;\n",
              "    }\n",
              "\n",
              "    .dataframe tbody tr th {\n",
              "        vertical-align: top;\n",
              "    }\n",
              "\n",
              "    .dataframe thead th {\n",
              "        text-align: right;\n",
              "    }\n",
              "</style>\n",
              "<table border=\"1\" class=\"dataframe\">\n",
              "  <thead>\n",
              "    <tr style=\"text-align: right;\">\n",
              "      <th></th>\n",
              "      <th>Phillippines</th>\n",
              "      <th>Indonesia</th>\n",
              "      <th>Malta</th>\n",
              "      <th>India</th>\n",
              "    </tr>\n",
              "  </thead>\n",
              "  <tbody>\n",
              "    <tr>\n",
              "      <th>0</th>\n",
              "      <td>Error Free</td>\n",
              "      <td>Error Free</td>\n",
              "      <td>Defective</td>\n",
              "      <td>Error Free</td>\n",
              "    </tr>\n",
              "    <tr>\n",
              "      <th>1</th>\n",
              "      <td>Error Free</td>\n",
              "      <td>Error Free</td>\n",
              "      <td>Error Free</td>\n",
              "      <td>Defective</td>\n",
              "    </tr>\n",
              "    <tr>\n",
              "      <th>2</th>\n",
              "      <td>Error Free</td>\n",
              "      <td>Defective</td>\n",
              "      <td>Defective</td>\n",
              "      <td>Error Free</td>\n",
              "    </tr>\n",
              "    <tr>\n",
              "      <th>3</th>\n",
              "      <td>Error Free</td>\n",
              "      <td>Error Free</td>\n",
              "      <td>Error Free</td>\n",
              "      <td>Error Free</td>\n",
              "    </tr>\n",
              "    <tr>\n",
              "      <th>4</th>\n",
              "      <td>Error Free</td>\n",
              "      <td>Error Free</td>\n",
              "      <td>Defective</td>\n",
              "      <td>Error Free</td>\n",
              "    </tr>\n",
              "  </tbody>\n",
              "</table>\n",
              "</div>"
            ],
            "text/plain": [
              "  Phillippines   Indonesia       Malta       India\n",
              "0   Error Free  Error Free   Defective  Error Free\n",
              "1   Error Free  Error Free  Error Free   Defective\n",
              "2   Error Free   Defective   Defective  Error Free\n",
              "3   Error Free  Error Free  Error Free  Error Free\n",
              "4   Error Free  Error Free   Defective  Error Free"
            ]
          },
          "execution_count": 5,
          "metadata": {},
          "output_type": "execute_result"
        }
      ],
      "source": [
        "cust=pd.read_csv(\"C:/Users/mewit/Desktop/Data Science Notes/Assignmnets/Hypothesis Testing/CustomerOrderForm.csv\")\n",
        "cust.head()"
      ]
    },
    {
      "cell_type": "code",
      "execution_count": null,
      "id": "1fa2db8d",
      "metadata": {
        "id": "1fa2db8d"
      },
      "outputs": [],
      "source": [
        "# H0 = There is no defects in Order Forms\n",
        "# H1 = There is a defects in Order Forms"
      ]
    },
    {
      "cell_type": "code",
      "execution_count": null,
      "id": "9295bc0d",
      "metadata": {
        "id": "9295bc0d",
        "outputId": "12e32dc6-a0c5-464e-e205-ef51b10c705d"
      },
      "outputs": [
        {
          "data": {
            "text/plain": [
              "(Error Free    271\n",
              " Defective      29\n",
              " Name: Phillippines, dtype: int64,\n",
              " '\\n',\n",
              " Error Free    267\n",
              " Defective      33\n",
              " Name: Indonesia, dtype: int64,\n",
              " '\\n',\n",
              " Error Free    269\n",
              " Defective      31\n",
              " Name: Malta, dtype: int64,\n",
              " '\\n',\n",
              " Error Free    280\n",
              " Defective      20\n",
              " Name: India, dtype: int64)"
            ]
          },
          "execution_count": 22,
          "metadata": {},
          "output_type": "execute_result"
        }
      ],
      "source": [
        "cust.Phillippines.value_counts(), '\\n' ,cust.Indonesia.value_counts(), '\\n' ,cust.Malta.value_counts(), '\\n' ,cust.India.value_counts()"
      ]
    },
    {
      "cell_type": "code",
      "execution_count": null,
      "id": "953790eb",
      "metadata": {
        "id": "953790eb",
        "outputId": "407185bc-bcd9-4605-ab04-0aead93d5cb2"
      },
      "outputs": [
        {
          "data": {
            "text/plain": [
              "array([[271, 267, 269, 280],\n",
              "       [ 29,  33,  31,  20]])"
            ]
          },
          "execution_count": 36,
          "metadata": {},
          "output_type": "execute_result"
        }
      ],
      "source": [
        "data = np.array([[271,267,269,280],[29,33,31,20]])\n",
        "data"
      ]
    },
    {
      "cell_type": "code",
      "execution_count": null,
      "id": "f789195d",
      "metadata": {
        "id": "f789195d",
        "outputId": "932bce02-bd8f-467a-c8a2-d9a4e652d4c7"
      },
      "outputs": [
        {
          "data": {
            "text/plain": [
              "(3.858960685820355,\n",
              " 0.2771020991233135,\n",
              " 3,\n",
              " array([[271.75, 271.75, 271.75, 271.75],\n",
              "        [ 28.25,  28.25,  28.25,  28.25]]))"
            ]
          },
          "execution_count": 39,
          "metadata": {},
          "output_type": "execute_result"
        }
      ],
      "source": [
        "chi2_contingency(data)"
      ]
    },
    {
      "cell_type": "code",
      "execution_count": null,
      "id": "ad2ea830",
      "metadata": {
        "id": "ad2ea830"
      },
      "outputs": [],
      "source": [
        "# Chi-square value = 3.8589\n",
        "# p_value = 0.2771\n",
        "# degree of freedom = 3\n",
        "# Expected values\n",
        "# alpha value = 0.05"
      ]
    },
    {
      "cell_type": "code",
      "execution_count": null,
      "id": "85e1773f",
      "metadata": {
        "id": "85e1773f"
      },
      "outputs": [],
      "source": [
        "# As the p_value is less than alpha value we rejecting the null hypothesis\n",
        "# So we can tell there is defects in the Customer Order Forms"
      ]
    }
  ],
  "metadata": {
    "kernelspec": {
      "display_name": "Python 3 (ipykernel)",
      "language": "python",
      "name": "python3"
    },
    "language_info": {
      "codemirror_mode": {
        "name": "ipython",
        "version": 3
      },
      "file_extension": ".py",
      "mimetype": "text/x-python",
      "name": "python",
      "nbconvert_exporter": "python",
      "pygments_lexer": "ipython3",
      "version": "3.9.13"
    },
    "colab": {
      "provenance": []
    }
  },
  "nbformat": 4,
  "nbformat_minor": 5
}