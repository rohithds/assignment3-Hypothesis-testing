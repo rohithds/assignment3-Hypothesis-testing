{
  "cells": [
    {
      "cell_type": "code",
      "execution_count": null,
      "id": "5a3e43ff",
      "metadata": {
        "id": "5a3e43ff"
      },
      "outputs": [],
      "source": [
        "import pandas as pd\n",
        "import numpy as np\n",
        "import scipy.stats as st"
      ]
    },
    {
      "cell_type": "code",
      "execution_count": null,
      "id": "d386a5b1",
      "metadata": {
        "id": "d386a5b1",
        "outputId": "2d4c59ab-f61d-4d1e-d944-4662f199d393"
      },
      "outputs": [
        {
          "data": {
            "text/html": [
              "<div>\n",
              "<style scoped>\n",
              "    .dataframe tbody tr th:only-of-type {\n",
              "        vertical-align: middle;\n",
              "    }\n",
              "\n",
              "    .dataframe tbody tr th {\n",
              "        vertical-align: top;\n",
              "    }\n",
              "\n",
              "    .dataframe thead th {\n",
              "        text-align: right;\n",
              "    }\n",
              "</style>\n",
              "<table border=\"1\" class=\"dataframe\">\n",
              "  <thead>\n",
              "    <tr style=\"text-align: right;\">\n",
              "      <th></th>\n",
              "      <th>Unit A</th>\n",
              "      <th>Unit B</th>\n",
              "    </tr>\n",
              "  </thead>\n",
              "  <tbody>\n",
              "    <tr>\n",
              "      <th>0</th>\n",
              "      <td>6.8090</td>\n",
              "      <td>6.7703</td>\n",
              "    </tr>\n",
              "    <tr>\n",
              "      <th>1</th>\n",
              "      <td>6.4376</td>\n",
              "      <td>7.5093</td>\n",
              "    </tr>\n",
              "    <tr>\n",
              "      <th>2</th>\n",
              "      <td>6.9157</td>\n",
              "      <td>6.7300</td>\n",
              "    </tr>\n",
              "    <tr>\n",
              "      <th>3</th>\n",
              "      <td>7.3012</td>\n",
              "      <td>6.7878</td>\n",
              "    </tr>\n",
              "    <tr>\n",
              "      <th>4</th>\n",
              "      <td>7.4488</td>\n",
              "      <td>7.1522</td>\n",
              "    </tr>\n",
              "  </tbody>\n",
              "</table>\n",
              "</div>"
            ],
            "text/plain": [
              "   Unit A  Unit B\n",
              "0  6.8090  6.7703\n",
              "1  6.4376  7.5093\n",
              "2  6.9157  6.7300\n",
              "3  7.3012  6.7878\n",
              "4  7.4488  7.1522"
            ]
          },
          "execution_count": 2,
          "metadata": {},
          "output_type": "execute_result"
        }
      ],
      "source": [
        "cut=pd.read_csv(\"C:/Users/mewit/Desktop/Data Science Notes/Assignmnets/Hypothesis Testing/Cutlets.csv\")\n",
        "cut.head()"
      ]
    },
    {
      "cell_type": "code",
      "execution_count": null,
      "id": "615369ce",
      "metadata": {
        "id": "615369ce"
      },
      "outputs": [],
      "source": [
        "# H0 = There is no difference between diameter of cutlets\n",
        "# H1 = There is a difference between diameter of cutlets"
      ]
    },
    {
      "cell_type": "code",
      "execution_count": null,
      "id": "5fde8503",
      "metadata": {
        "id": "5fde8503",
        "outputId": "17b5bf59-cb2c-45dc-c0e9-32dd96cce50d"
      },
      "outputs": [
        {
          "data": {
            "text/plain": [
              "0    6.8090\n",
              "1    6.4376\n",
              "2    6.9157\n",
              "3    7.3012\n",
              "4    7.4488\n",
              "Name: Unit A, dtype: float64"
            ]
          },
          "execution_count": 21,
          "metadata": {},
          "output_type": "execute_result"
        }
      ],
      "source": [
        "unitA=pd.Series(cut.iloc[:,0])\n",
        "unitA.head()"
      ]
    },
    {
      "cell_type": "code",
      "execution_count": null,
      "id": "e4c502cd",
      "metadata": {
        "id": "e4c502cd",
        "outputId": "e2a60e24-4ebb-4aa0-bddc-68bb2d663b5b"
      },
      "outputs": [
        {
          "data": {
            "text/plain": [
              "0    6.7703\n",
              "1    7.5093\n",
              "2    6.7300\n",
              "3    6.7878\n",
              "4    7.1522\n",
              "Name: Unit B, dtype: float64"
            ]
          },
          "execution_count": 22,
          "metadata": {},
          "output_type": "execute_result"
        }
      ],
      "source": [
        "unitB=pd.Series(cut.iloc[:,1])\n",
        "unitB.head()"
      ]
    },
    {
      "cell_type": "code",
      "execution_count": null,
      "id": "56fc7c96",
      "metadata": {
        "id": "56fc7c96",
        "outputId": "c6d78568-1098-48d9-9f85-e2a199477785"
      },
      "outputs": [
        {
          "data": {
            "text/plain": [
              "Ttest_indResult(statistic=0.7228688704678063, pvalue=0.4722394724599501)"
            ]
          },
          "execution_count": 23,
          "metadata": {},
          "output_type": "execute_result"
        }
      ],
      "source": [
        "p_value=stats.ttest_ind(unitA,unitB)\n",
        "p_value"
      ]
    },
    {
      "cell_type": "code",
      "execution_count": null,
      "id": "ca366f66",
      "metadata": {
        "id": "ca366f66",
        "outputId": "766a8f84-adaf-4551-bb9e-40be0b40003e"
      },
      "outputs": [
        {
          "data": {
            "text/plain": [
              "0.4722394724599501"
            ]
          },
          "execution_count": 24,
          "metadata": {},
          "output_type": "execute_result"
        }
      ],
      "source": [
        "p_value[1]"
      ]
    },
    {
      "cell_type": "code",
      "execution_count": null,
      "id": "df5be844",
      "metadata": {
        "id": "df5be844"
      },
      "outputs": [],
      "source": [
        "# As our p_value value is less than alpha So we reject the null hypothesis\n",
        "# So there is a difference between diameter of cutlets between two units"
      ]
    }
  ],
  "metadata": {
    "kernelspec": {
      "display_name": "Python 3 (ipykernel)",
      "language": "python",
      "name": "python3"
    },
    "language_info": {
      "codemirror_mode": {
        "name": "ipython",
        "version": 3
      },
      "file_extension": ".py",
      "mimetype": "text/x-python",
      "name": "python",
      "nbconvert_exporter": "python",
      "pygments_lexer": "ipython3",
      "version": "3.9.13"
    },
    "colab": {
      "provenance": []
    }
  },
  "nbformat": 4,
  "nbformat_minor": 5
}