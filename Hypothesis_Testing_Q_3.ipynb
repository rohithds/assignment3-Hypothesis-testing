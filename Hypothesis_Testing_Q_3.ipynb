{
  "cells": [
    {
      "cell_type": "code",
      "execution_count": null,
      "id": "7c83eec3",
      "metadata": {
        "id": "7c83eec3"
      },
      "outputs": [],
      "source": [
        "import pandas as pd\n",
        "import scipy.stats as st\n",
        "from scipy.stats import chi2_contingency"
      ]
    },
    {
      "cell_type": "code",
      "execution_count": null,
      "id": "6fcf1728",
      "metadata": {
        "id": "6fcf1728",
        "outputId": "db3e9681-8e83-47b3-de9d-7b8061717403"
      },
      "outputs": [
        {
          "data": {
            "text/html": [
              "<div>\n",
              "<style scoped>\n",
              "    .dataframe tbody tr th:only-of-type {\n",
              "        vertical-align: middle;\n",
              "    }\n",
              "\n",
              "    .dataframe tbody tr th {\n",
              "        vertical-align: top;\n",
              "    }\n",
              "\n",
              "    .dataframe thead th {\n",
              "        text-align: right;\n",
              "    }\n",
              "</style>\n",
              "<table border=\"1\" class=\"dataframe\">\n",
              "  <thead>\n",
              "    <tr style=\"text-align: right;\">\n",
              "      <th></th>\n",
              "      <th>East</th>\n",
              "      <th>West</th>\n",
              "      <th>North</th>\n",
              "      <th>South</th>\n",
              "    </tr>\n",
              "    <tr>\n",
              "      <th>Observed Values</th>\n",
              "      <th></th>\n",
              "      <th></th>\n",
              "      <th></th>\n",
              "      <th></th>\n",
              "    </tr>\n",
              "  </thead>\n",
              "  <tbody>\n",
              "    <tr>\n",
              "      <th>Males</th>\n",
              "      <td>50</td>\n",
              "      <td>142</td>\n",
              "      <td>131</td>\n",
              "      <td>70</td>\n",
              "    </tr>\n",
              "    <tr>\n",
              "      <th>Females</th>\n",
              "      <td>435</td>\n",
              "      <td>1523</td>\n",
              "      <td>1356</td>\n",
              "      <td>750</td>\n",
              "    </tr>\n",
              "  </tbody>\n",
              "</table>\n",
              "</div>"
            ],
            "text/plain": [
              "                 East  West  North  South\n",
              "Observed Values                          \n",
              "Males              50   142    131     70\n",
              "Females           435  1523   1356    750"
            ]
          },
          "execution_count": 18,
          "metadata": {},
          "output_type": "execute_result"
        }
      ],
      "source": [
        "br = pd.read_csv(\"C:/Users/mewit/Desktop/Data Science Notes/Assignmnets/Hypothesis Testing/BuyerRatio.csv\", index_col = 0)\n",
        "br"
      ]
    },
    {
      "cell_type": "code",
      "execution_count": null,
      "id": "a75ab99f",
      "metadata": {
        "id": "a75ab99f"
      },
      "outputs": [],
      "source": [
        "# H0 = All the propertions are equal\n",
        "# H1 = Not all propertions are equal"
      ]
    },
    {
      "cell_type": "code",
      "execution_count": null,
      "id": "27ea4f7c",
      "metadata": {
        "id": "27ea4f7c",
        "outputId": "c76dd241-0701-4e17-d06a-e43648caa460"
      },
      "outputs": [
        {
          "data": {
            "text/plain": [
              "array([[  50,  142,  131,   70],\n",
              "       [ 435, 1523, 1356,  750]], dtype=int64)"
            ]
          },
          "execution_count": 24,
          "metadata": {},
          "output_type": "execute_result"
        }
      ],
      "source": [
        "# Changing the data frame format to array format\n",
        "data = br.to_numpy()\n",
        "data"
      ]
    },
    {
      "cell_type": "code",
      "execution_count": null,
      "id": "6db49774",
      "metadata": {
        "scrolled": true,
        "id": "6db49774",
        "outputId": "f805b8f9-60d6-4a6c-de89-d9409ce79476"
      },
      "outputs": [
        {
          "data": {
            "text/plain": [
              "(1.595945538661058,\n",
              " 0.6603094907091882,\n",
              " 3,\n",
              " array([[  42.76531299,  146.81287862,  131.11756787,   72.30424052],\n",
              "        [ 442.23468701, 1518.18712138, 1355.88243213,  747.69575948]]))"
            ]
          },
          "execution_count": 25,
          "metadata": {},
          "output_type": "execute_result"
        }
      ],
      "source": [
        "# To find the Chi square value and p_value\n",
        "chi2_contingency(data)"
      ]
    },
    {
      "cell_type": "code",
      "execution_count": null,
      "id": "2becb0ba",
      "metadata": {
        "id": "2becb0ba"
      },
      "outputs": [],
      "source": [
        "# Chi-square value = 1.5959\n",
        "# p_value = 0.6603\n",
        "# degree of freedom = 3\n",
        "# Expected values\n",
        "# alpha value = 0.05"
      ]
    },
    {
      "cell_type": "code",
      "execution_count": null,
      "id": "3d038b23",
      "metadata": {
        "id": "3d038b23"
      },
      "outputs": [],
      "source": [
        "# As the p_value is greater than alpha value we accept the null hypothesis\n",
        "# So we can say all propertions are equal."
      ]
    }
  ],
  "metadata": {
    "kernelspec": {
      "display_name": "Python 3 (ipykernel)",
      "language": "python",
      "name": "python3"
    },
    "language_info": {
      "codemirror_mode": {
        "name": "ipython",
        "version": 3
      },
      "file_extension": ".py",
      "mimetype": "text/x-python",
      "name": "python",
      "nbconvert_exporter": "python",
      "pygments_lexer": "ipython3",
      "version": "3.9.13"
    },
    "colab": {
      "provenance": []
    }
  },
  "nbformat": 4,
  "nbformat_minor": 5
}